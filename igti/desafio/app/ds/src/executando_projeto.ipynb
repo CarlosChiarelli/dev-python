{
 "cells": [
  {
   "cell_type": "code",
   "execution_count": 1,
   "metadata": {},
   "outputs": [],
   "source": [
    "# bibliotecas\n",
    "from fonte_dados import FonteDados\n",
    "from preprocessamento import Preprocessamento\n",
    "from visualizacao import Visualizacao\n",
    "\n",
    "from experimentos import Experimentos\n",
    "from treinamento_modelo import TreinamentoModelo\n",
    "from inferencia_modelo import InferenciaModelo"
   ]
  },
  {
   "cell_type": "markdown",
   "metadata": {},
   "source": [
    "$$ $$\n",
    "# Leitura dos dados\n",
    "$$ $$"
   ]
  },
  {
   "cell_type": "code",
   "execution_count": 2,
   "metadata": {},
   "outputs": [
    {
     "name": "stdout",
     "output_type": "stream",
     "text": [
      "Retorno treino (X e y) \n",
      "\n",
      "Dimensão X: (537, 8) \n",
      "Dimensão y: (537, 1) \n",
      "\n"
     ]
    },
    {
     "data": {
      "text/html": [
       "<div>\n",
       "<style scoped>\n",
       "    .dataframe tbody tr th:only-of-type {\n",
       "        vertical-align: middle;\n",
       "    }\n",
       "\n",
       "    .dataframe tbody tr th {\n",
       "        vertical-align: top;\n",
       "    }\n",
       "\n",
       "    .dataframe thead th {\n",
       "        text-align: right;\n",
       "    }\n",
       "</style>\n",
       "<table border=\"1\" class=\"dataframe\">\n",
       "  <thead>\n",
       "    <tr style=\"text-align: right;\">\n",
       "      <th></th>\n",
       "      <th>num_gravid</th>\n",
       "      <th>glicose</th>\n",
       "      <th>pressao</th>\n",
       "      <th>espes_tricep</th>\n",
       "      <th>insulina</th>\n",
       "      <th>imc</th>\n",
       "      <th>hist_diab</th>\n",
       "      <th>idade</th>\n",
       "    </tr>\n",
       "  </thead>\n",
       "  <tbody>\n",
       "    <tr>\n",
       "      <th>334</th>\n",
       "      <td>1</td>\n",
       "      <td>95</td>\n",
       "      <td>60</td>\n",
       "      <td>18</td>\n",
       "      <td>58</td>\n",
       "      <td>23.9</td>\n",
       "      <td>0.260</td>\n",
       "      <td>22</td>\n",
       "    </tr>\n",
       "    <tr>\n",
       "      <th>139</th>\n",
       "      <td>5</td>\n",
       "      <td>105</td>\n",
       "      <td>72</td>\n",
       "      <td>29</td>\n",
       "      <td>325</td>\n",
       "      <td>36.9</td>\n",
       "      <td>0.159</td>\n",
       "      <td>28</td>\n",
       "    </tr>\n",
       "    <tr>\n",
       "      <th>485</th>\n",
       "      <td>0</td>\n",
       "      <td>135</td>\n",
       "      <td>68</td>\n",
       "      <td>42</td>\n",
       "      <td>250</td>\n",
       "      <td>42.3</td>\n",
       "      <td>0.365</td>\n",
       "      <td>24</td>\n",
       "    </tr>\n",
       "    <tr>\n",
       "      <th>547</th>\n",
       "      <td>4</td>\n",
       "      <td>131</td>\n",
       "      <td>68</td>\n",
       "      <td>21</td>\n",
       "      <td>166</td>\n",
       "      <td>33.1</td>\n",
       "      <td>0.160</td>\n",
       "      <td>28</td>\n",
       "    </tr>\n",
       "    <tr>\n",
       "      <th>18</th>\n",
       "      <td>1</td>\n",
       "      <td>103</td>\n",
       "      <td>30</td>\n",
       "      <td>38</td>\n",
       "      <td>83</td>\n",
       "      <td>43.3</td>\n",
       "      <td>0.183</td>\n",
       "      <td>33</td>\n",
       "    </tr>\n",
       "  </tbody>\n",
       "</table>\n",
       "</div>"
      ],
      "text/plain": [
       "     num_gravid  glicose  pressao  espes_tricep  insulina   imc  hist_diab  \\\n",
       "334           1       95       60            18        58  23.9      0.260   \n",
       "139           5      105       72            29       325  36.9      0.159   \n",
       "485           0      135       68            42       250  42.3      0.365   \n",
       "547           4      131       68            21       166  33.1      0.160   \n",
       "18            1      103       30            38        83  43.3      0.183   \n",
       "\n",
       "     idade  \n",
       "334     22  \n",
       "139     28  \n",
       "485     24  \n",
       "547     28  \n",
       "18      33  "
      ]
     },
     "execution_count": 2,
     "metadata": {},
     "output_type": "execute_result"
    }
   ],
   "source": [
    "X_train, y_train = FonteDados().leitura_dados()\n",
    "\n",
    "X_train.head()"
   ]
  },
  {
   "cell_type": "code",
   "execution_count": 3,
   "metadata": {},
   "outputs": [
    {
     "name": "stdout",
     "output_type": "stream",
     "text": [
      "Retorno teste (X e y) \n",
      "\n",
      "Dimensão X: (231, 8) \n",
      "Dimensão y: (231, 1) \n",
      "\n"
     ]
    },
    {
     "data": {
      "text/html": [
       "<div>\n",
       "<style scoped>\n",
       "    .dataframe tbody tr th:only-of-type {\n",
       "        vertical-align: middle;\n",
       "    }\n",
       "\n",
       "    .dataframe tbody tr th {\n",
       "        vertical-align: top;\n",
       "    }\n",
       "\n",
       "    .dataframe thead th {\n",
       "        text-align: right;\n",
       "    }\n",
       "</style>\n",
       "<table border=\"1\" class=\"dataframe\">\n",
       "  <thead>\n",
       "    <tr style=\"text-align: right;\">\n",
       "      <th></th>\n",
       "      <th>tem_diab</th>\n",
       "    </tr>\n",
       "  </thead>\n",
       "  <tbody>\n",
       "    <tr>\n",
       "      <th>668</th>\n",
       "      <td>0</td>\n",
       "    </tr>\n",
       "    <tr>\n",
       "      <th>324</th>\n",
       "      <td>0</td>\n",
       "    </tr>\n",
       "    <tr>\n",
       "      <th>624</th>\n",
       "      <td>0</td>\n",
       "    </tr>\n",
       "    <tr>\n",
       "      <th>690</th>\n",
       "      <td>0</td>\n",
       "    </tr>\n",
       "    <tr>\n",
       "      <th>473</th>\n",
       "      <td>0</td>\n",
       "    </tr>\n",
       "  </tbody>\n",
       "</table>\n",
       "</div>"
      ],
      "text/plain": [
       "     tem_diab\n",
       "668         0\n",
       "324         0\n",
       "624         0\n",
       "690         0\n",
       "473         0"
      ]
     },
     "execution_count": 3,
     "metadata": {},
     "output_type": "execute_result"
    }
   ],
   "source": [
    "X_test, y_test = FonteDados().leitura_dados(treino=False)\n",
    "\n",
    "y_test.head()"
   ]
  },
  {
   "cell_type": "code",
   "execution_count": 4,
   "metadata": {},
   "outputs": [
    {
     "data": {
      "text/plain": [
       "tem_diab    0.34632\n",
       "dtype: float64"
      ]
     },
     "execution_count": 4,
     "metadata": {},
     "output_type": "execute_result"
    }
   ],
   "source": [
    "y_test.mean()"
   ]
  },
  {
   "cell_type": "markdown",
   "metadata": {},
   "source": [
    "$$ $$\n",
    "Acima vemos que se trata de um problema de classificação desbalanceado."
   ]
  },
  {
   "cell_type": "markdown",
   "metadata": {},
   "source": [
    "$$ $$\n",
    "# Pré-processamento\n",
    "$$ $$"
   ]
  },
  {
   "cell_type": "code",
   "execution_count": 5,
   "metadata": {},
   "outputs": [
    {
     "name": "stdout",
     "output_type": "stream",
     "text": [
      "Salvando tipos e nomes das colunas de treino \n",
      "\n",
      "Preenchimento dos missings das numéricas \n",
      "\n",
      "Normalização dos dados (mínimo e máximo) \n",
      "\n"
     ]
    }
   ],
   "source": [
    "pre_proc = Preprocessamento()\n",
    "X_train_proc = pre_proc.processo(X_train)"
   ]
  },
  {
   "cell_type": "markdown",
   "metadata": {},
   "source": [
    "$$ $$\n",
    "# Redução de dimensionalidade (visualização)\n",
    "$$ $$"
   ]
  },
  {
   "cell_type": "code",
   "execution_count": 6,
   "metadata": {},
   "outputs": [
    {
     "name": "stdout",
     "output_type": "stream",
     "text": [
      "(537, 2)\n"
     ]
    }
   ],
   "source": [
    "pca = pre_proc.reducao_dim(X_train_proc)\n",
    "tsne = pre_proc.reducao_dim(X_train_proc, metodo='tsne')\n",
    "\n",
    "print(pca.shape)"
   ]
  },
  {
   "cell_type": "code",
   "execution_count": 7,
   "metadata": {},
   "outputs": [
    {
     "data": {
      "image/png": "[encoded data removed]",
      "text/plain": [
       "<Figure size 432x288 with 1 Axes>"
      ]
     },
     "metadata": {
      "needs_background": "light"
     },
     "output_type": "display_data"
    }
   ],
   "source": [
    "Visualizacao().pca(pca, y_train)"
   ]
  },
  {
   "cell_type": "code",
   "execution_count": 8,
   "metadata": {},
   "outputs": [
    {
     "data": {
      "image/png": "[encoded data removed]",
      "text/plain": [
       "<Figure size 432x288 with 1 Axes>"
      ]
     },
     "metadata": {
      "needs_background": "light"
     },
     "output_type": "display_data"
    }
   ],
   "source": [
    "Visualizacao().pca(tsne, y_train)"
   ]
  },
  {
   "cell_type": "markdown",
   "metadata": {},
   "source": [
    "$$ $$\n",
    "# Balanceamento dos dados\n",
    "$$ $$"
   ]
  },
  {
   "cell_type": "code",
   "execution_count": 9,
   "metadata": {},
   "outputs": [
    {
     "name": "stdout",
     "output_type": "stream",
     "text": [
      "Dimensões antes: ((537, 8), (537, 1))  |  Dimensões depois: ((698, 8), (698,))\n",
      "\n",
      "Proporção target após balanceamento: 0.5\n",
      "\n"
     ]
    },
    {
     "data": {
      "image/png": "[encoded data removed]",
      "text/plain": [
       "<Figure size 432x288 with 1 Axes>"
      ]
     },
     "metadata": {
      "needs_background": "light"
     },
     "output_type": "display_data"
    }
   ],
   "source": [
    "X_trainBalanc, y_trainBalanc = pre_proc.balanceamento_oversampling(X_train_proc, y_train)\n",
    "\n",
    "print(f'\\nProporção target após balanceamento: {y_trainBalanc.mean()}\\n')\n",
    "\n",
    "tsne = pre_proc.reducao_dim(X_trainBalanc, metodo='tsne')\n",
    "\n",
    "Visualizacao().pca(tsne,\n",
    "                   y_trainBalanc.rename('tem_diab').to_frame())"
   ]
  },
  {
   "cell_type": "markdown",
   "metadata": {},
   "source": [
    "$$ $$\n",
    "# Experimentos\n",
    "$$ $$\n",
    "Abaixo será executado do pipeline do processo de modelagem preditiva.\n",
    "$$ $$"
   ]
  },
  {
   "cell_type": "code",
   "execution_count": 10,
   "metadata": {},
   "outputs": [
    {
     "name": "stdout",
     "output_type": "stream",
     "text": [
      "Leitura dos dados \n",
      "\n",
      "\n",
      "Retorno treino (X e y) \n",
      "\n",
      "Dimensão X: (537, 8) \n",
      "Dimensão y: (537, 1) \n",
      "\n",
      "Retorno teste (X e y) \n",
      "\n",
      "Dimensão X: (231, 8) \n",
      "Dimensão y: (231, 1) \n",
      "\n",
      "Pré-processamento dados de treino \n",
      "\n",
      "\n",
      "Salvando tipos e nomes das colunas de treino \n",
      "\n",
      "Preenchimento dos missings das numéricas \n",
      "\n",
      "Normalização dos dados (mínimo e máximo) \n",
      "\n",
      "Pré-processamento dados de teste \n",
      "\n",
      "\n",
      "Preenchimento dos missings das numéricas \n",
      "\n",
      "Normalização dos dados (mínimo e máximo) \n",
      "\n",
      "Balanceamento Oversampling \n",
      "\n",
      "\n",
      "Dimensões antes: ((537, 8), (537, 1))  |  Dimensões depois: ((698, 8), (698,))\n",
      "Treinamento dos modelos\n",
      "Treinando o modelo  logistica\n",
      "LogisticRegression() \n",
      "\n",
      "\n",
      "Treinando o modelo  knn\n",
      "KNeighborsClassifier() \n",
      "\n",
      "\n",
      "Treinando o modelo  decision_tree\n",
      "DecisionTreeClassifier() \n",
      "\n",
      "\n",
      "Treinando o modelo  random_forest\n",
      "RandomForestClassifier() \n",
      "\n",
      "\n",
      "Treinando o modelo  svm\n",
      "SVC() \n",
      "\n",
      "\n",
      "Treinando o modelo  adaboost\n",
      "AdaBoostClassifier() \n",
      "\n",
      "\n",
      "Treinando o modelo  xgb\n",
      "XGBClassifier(base_score=None, booster=None, colsample_bylevel=None,\n",
      "              colsample_bynode=None, colsample_bytree=None, gamma=None,\n",
      "              gpu_id=None, importance_type='gain', interaction_constraints=None,\n",
      "              learning_rate=None, max_delta_step=None, max_depth=None,\n",
      "              min_child_weight=None, missing=nan, monotone_constraints=None,\n",
      "              n_estimators=100, n_jobs=None, num_parallel_tree=None,\n",
      "              random_state=None, reg_alpha=None, reg_lambda=None,\n",
      "              scale_pos_weight=None, subsample=None, tree_method=None,\n",
      "              validate_parameters=None, verbosity=None) \n",
      "\n",
      "\n",
      "[00:06:42] WARNING: ../src/learner.cc:1061: Starting in XGBoost 1.3.0, the default evaluation metric used with the objective 'binary:logistic' was changed from 'error' to 'logloss'. Explicitly set eval_metric if you'd like to restore the old behavior.\n"
     ]
    },
    {
     "name": "stderr",
     "output_type": "stream",
     "text": [
      "/home/carlos/Projetos/dev-python/igti/desafio/.venv/lib/python3.7/site-packages/xgboost/sklearn.py:888: UserWarning: The use of label encoder in XGBClassifier is deprecated and will be removed in a future release. To remove this warning, do the following: 1) Pass option use_label_encoder=False when constructing XGBClassifier object; and 2) Encode your labels (y) as integers starting with 0, i.e. 0, 1, 2, ..., [num_class - 1].\n",
      "  warnings.warn(label_encoder_deprecation_msg, UserWarning)\n"
     ]
    },
    {
     "name": "stdout",
     "output_type": "stream",
     "text": [
      "Treinando o modelo  catboost\n",
      "<catboost.core.CatBoostClassifier object at 0x7f8b3c0df190> \n",
      "\n",
      "\n",
      "Treinando o modelo  mlp\n",
      "MLPClassifier(alpha=1e-05, hidden_layer_sizes=(5, 10), solver='lbfgs') \n",
      "\n",
      "\n"
     ]
    },
    {
     "name": "stderr",
     "output_type": "stream",
     "text": [
      "/home/carlos/Projetos/dev-python/igti/desafio/.venv/lib/python3.7/site-packages/sklearn/neural_network/_multilayer_perceptron.py:500: ConvergenceWarning: lbfgs failed to converge (status=1):\n",
      "STOP: TOTAL NO. of ITERATIONS REACHED LIMIT.\n",
      "\n",
      "Increase the number of iterations (max_iter) or scale the data as shown in:\n",
      "    https://scikit-learn.org/stable/modules/preprocessing.html\n",
      "  self.n_iter_ = _check_optimize_result(\"lbfgs\", opt_res, self.max_iter)\n"
     ]
    },
    {
     "name": "stdout",
     "output_type": "stream",
     "text": [
      "Executando métricas\n",
      "\n",
      " logistica\n",
      "              precision    recall  f1-score   support\n",
      "\n",
      "           0       0.81      0.70      0.75       151\n",
      "           1       0.55      0.69      0.61        80\n",
      "\n",
      "    accuracy                           0.70       231\n",
      "   macro avg       0.68      0.69      0.68       231\n",
      "weighted avg       0.72      0.70      0.70       231\n",
      " \n",
      "\n",
      "\n",
      "Matriz de confusão \n",
      " [[106  45]\n",
      " [ 25  55]] \n",
      "\n",
      " acuracia: 0.696969696969697, f1: 0.6111111111111112, recall: 0.6875\n",
      "\n",
      "\n",
      "\n",
      " knn\n",
      "              precision    recall  f1-score   support\n",
      "\n",
      "           0       0.82      0.70      0.76       151\n",
      "           1       0.56      0.71      0.63        80\n",
      "\n",
      "    accuracy                           0.71       231\n",
      "   macro avg       0.69      0.71      0.69       231\n",
      "weighted avg       0.73      0.71      0.71       231\n",
      " \n",
      "\n",
      "\n",
      "Matriz de confusão \n",
      " [[106  45]\n",
      " [ 23  57]] \n",
      "\n",
      " acuracia: 0.7056277056277056, f1: 0.6263736263736264, recall: 0.7125\n",
      "\n",
      "\n",
      "\n",
      " decision_tree\n",
      "              precision    recall  f1-score   support\n",
      "\n",
      "           0       0.82      0.75      0.79       151\n",
      "           1       0.60      0.69      0.64        80\n",
      "\n",
      "    accuracy                           0.73       231\n",
      "   macro avg       0.71      0.72      0.71       231\n",
      "weighted avg       0.74      0.73      0.74       231\n",
      " \n",
      "\n",
      "\n",
      "Matriz de confusão \n",
      " [[114  37]\n",
      " [ 25  55]] \n",
      "\n",
      " acuracia: 0.7316017316017316, f1: 0.6395348837209303, recall: 0.6875\n",
      "\n",
      "\n",
      "\n",
      " random_forest\n",
      "              precision    recall  f1-score   support\n",
      "\n",
      "           0       0.83      0.77      0.80       151\n",
      "           1       0.62      0.71      0.66        80\n",
      "\n",
      "    accuracy                           0.75       231\n",
      "   macro avg       0.73      0.74      0.73       231\n",
      "weighted avg       0.76      0.75      0.75       231\n",
      " \n",
      "\n",
      "\n",
      "Matriz de confusão \n",
      " [[116  35]\n",
      " [ 23  57]] \n",
      "\n",
      " acuracia: 0.7489177489177489, f1: 0.6627906976744186, recall: 0.7125\n",
      "\n",
      "\n",
      "\n",
      " svm\n",
      "              precision    recall  f1-score   support\n",
      "\n",
      "           0       0.85      0.71      0.77       151\n",
      "           1       0.58      0.76      0.66        80\n",
      "\n",
      "    accuracy                           0.73       231\n",
      "   macro avg       0.72      0.74      0.72       231\n",
      "weighted avg       0.76      0.73      0.73       231\n",
      " \n",
      "\n",
      "\n",
      "Matriz de confusão \n",
      " [[107  44]\n",
      " [ 19  61]] \n",
      "\n",
      " acuracia: 0.7272727272727273, f1: 0.6594594594594595, recall: 0.7625\n",
      "\n",
      "\n",
      "\n",
      " adaboost\n",
      "              precision    recall  f1-score   support\n",
      "\n",
      "           0       0.80      0.72      0.76       151\n",
      "           1       0.55      0.66      0.60        80\n",
      "\n",
      "    accuracy                           0.70       231\n",
      "   macro avg       0.68      0.69      0.68       231\n",
      "weighted avg       0.71      0.70      0.70       231\n",
      " \n",
      "\n",
      "\n",
      "Matriz de confusão \n",
      " [[108  43]\n",
      " [ 27  53]] \n",
      "\n",
      " acuracia: 0.696969696969697, f1: 0.6022727272727273, recall: 0.6625\n",
      "\n",
      "\n",
      "\n",
      " xgb\n",
      "              precision    recall  f1-score   support\n",
      "\n",
      "           0       0.81      0.74      0.77       151\n",
      "           1       0.57      0.68      0.62        80\n",
      "\n",
      "    accuracy                           0.71       231\n",
      "   macro avg       0.69      0.71      0.70       231\n",
      "weighted avg       0.73      0.71      0.72       231\n",
      " \n",
      "\n",
      "\n",
      "Matriz de confusão \n",
      " [[111  40]\n",
      " [ 26  54]] \n",
      "\n",
      " acuracia: 0.7142857142857143, f1: 0.6206896551724138, recall: 0.675\n",
      "\n",
      "\n",
      "\n",
      " catboost\n",
      "              precision    recall  f1-score   support\n",
      "\n",
      "           0       0.83      0.73      0.77       151\n",
      "           1       0.58      0.71      0.64        80\n",
      "\n",
      "    accuracy                           0.72       231\n",
      "   macro avg       0.70      0.72      0.71       231\n",
      "weighted avg       0.74      0.72      0.73       231\n",
      " \n",
      "\n",
      "\n",
      "Matriz de confusão \n",
      " [[110  41]\n",
      " [ 23  57]] \n",
      "\n",
      " acuracia: 0.7229437229437229, f1: 0.6404494382022472, recall: 0.7125\n",
      "\n",
      "\n",
      "\n",
      " mlp\n",
      "              precision    recall  f1-score   support\n",
      "\n",
      "           0       0.81      0.72      0.76       151\n",
      "           1       0.56      0.69      0.62        80\n",
      "\n",
      "    accuracy                           0.71       231\n",
      "   macro avg       0.69      0.70      0.69       231\n",
      "weighted avg       0.73      0.71      0.71       231\n",
      " \n",
      "\n",
      "\n",
      "Matriz de confusão \n",
      " [[108  43]\n",
      " [ 25  55]] \n",
      "\n",
      " acuracia: 0.7056277056277056, f1: 0.6179775280898877, recall: 0.6875\n",
      "\n",
      "\n"
     ]
    }
   ],
   "source": [
    "from experimentos import Experimentos\n",
    "\n",
    "exp = Experimentos()\n",
    "metricas_modelos = exp.exec_experimentos()"
   ]
  },
  {
   "cell_type": "code",
   "execution_count": 11,
   "metadata": {},
   "outputs": [
    {
     "data": {
      "text/html": [
       "<div>\n",
       "<style scoped>\n",
       "    .dataframe tbody tr th:only-of-type {\n",
       "        vertical-align: middle;\n",
       "    }\n",
       "\n",
       "    .dataframe tbody tr th {\n",
       "        vertical-align: top;\n",
       "    }\n",
       "\n",
       "    .dataframe thead th {\n",
       "        text-align: right;\n",
       "    }\n",
       "</style>\n",
       "<table border=\"1\" class=\"dataframe\">\n",
       "  <thead>\n",
       "    <tr style=\"text-align: right;\">\n",
       "      <th></th>\n",
       "      <th>acuracia</th>\n",
       "      <th>f1</th>\n",
       "      <th>recall</th>\n",
       "    </tr>\n",
       "  </thead>\n",
       "  <tbody>\n",
       "    <tr>\n",
       "      <th>random_forest</th>\n",
       "      <td>0.75</td>\n",
       "      <td>0.66</td>\n",
       "      <td>0.71</td>\n",
       "    </tr>\n",
       "    <tr>\n",
       "      <th>svm</th>\n",
       "      <td>0.73</td>\n",
       "      <td>0.66</td>\n",
       "      <td>0.76</td>\n",
       "    </tr>\n",
       "    <tr>\n",
       "      <th>decision_tree</th>\n",
       "      <td>0.73</td>\n",
       "      <td>0.64</td>\n",
       "      <td>0.69</td>\n",
       "    </tr>\n",
       "    <tr>\n",
       "      <th>catboost</th>\n",
       "      <td>0.72</td>\n",
       "      <td>0.64</td>\n",
       "      <td>0.71</td>\n",
       "    </tr>\n",
       "    <tr>\n",
       "      <th>knn</th>\n",
       "      <td>0.71</td>\n",
       "      <td>0.63</td>\n",
       "      <td>0.71</td>\n",
       "    </tr>\n",
       "    <tr>\n",
       "      <th>xgb</th>\n",
       "      <td>0.71</td>\n",
       "      <td>0.62</td>\n",
       "      <td>0.68</td>\n",
       "    </tr>\n",
       "    <tr>\n",
       "      <th>mlp</th>\n",
       "      <td>0.71</td>\n",
       "      <td>0.62</td>\n",
       "      <td>0.69</td>\n",
       "    </tr>\n",
       "    <tr>\n",
       "      <th>logistica</th>\n",
       "      <td>0.70</td>\n",
       "      <td>0.61</td>\n",
       "      <td>0.69</td>\n",
       "    </tr>\n",
       "    <tr>\n",
       "      <th>adaboost</th>\n",
       "      <td>0.70</td>\n",
       "      <td>0.60</td>\n",
       "      <td>0.66</td>\n",
       "    </tr>\n",
       "  </tbody>\n",
       "</table>\n",
       "</div>"
      ],
      "text/plain": [
       "               acuracia    f1  recall\n",
       "random_forest      0.75  0.66    0.71\n",
       "svm                0.73  0.66    0.76\n",
       "decision_tree      0.73  0.64    0.69\n",
       "catboost           0.72  0.64    0.71\n",
       "knn                0.71  0.63    0.71\n",
       "xgb                0.71  0.62    0.68\n",
       "mlp                0.71  0.62    0.69\n",
       "logistica          0.70  0.61    0.69\n",
       "adaboost           0.70  0.60    0.66"
      ]
     },
     "execution_count": 11,
     "metadata": {},
     "output_type": "execute_result"
    }
   ],
   "source": [
    "metricas_modelos"
   ]
  },
  {
   "cell_type": "markdown",
   "metadata": {},
   "source": [
    "Random Forest foi o modelo campeão nos experimentos de acordo com a acurária."
   ]
  },
  {
   "cell_type": "markdown",
   "metadata": {},
   "source": [
    "$$ $$\n",
    "# Preparando modelo final\n",
    "$$ $$"
   ]
  },
  {
   "cell_type": "code",
   "execution_count": 12,
   "metadata": {},
   "outputs": [
    {
     "name": "stdout",
     "output_type": "stream",
     "text": [
      "Carregamento dos dados \n",
      "\n",
      "\n",
      "Retorno treino (X e y) \n",
      "\n",
      "Dimensão X: (537, 8) \n",
      "Dimensão y: (537, 1) \n",
      "\n",
      "Treinamento do pré-processamento \n",
      "\n",
      "\n",
      "Salvando tipos e nomes das colunas de treino \n",
      "\n",
      "Preenchimento dos missings das numéricas \n",
      "\n",
      "Normalização dos dados (mínimo e máximo) \n",
      "\n",
      "Balanceamento Oversampling \n",
      "\n",
      "\n",
      "Dimensões antes: ((537, 8), (537, 1))  |  Dimensões depois: ((698, 8), (698,))\n",
      "Treinamento do modelo \n",
      "\n",
      "\n",
      "{'model_obj': RandomForestClassifier(), 'preprocess': <preprocessamento.Preprocessamento object at 0x7f8b3c0b8e10>, 'colunas':         colunas    tipos\n",
      "0    num_gravid    int64\n",
      "1       glicose    int64\n",
      "2       pressao    int64\n",
      "3  espes_tricep    int64\n",
      "4      insulina    int64\n",
      "5           imc  float64\n",
      "6     hist_diab  float64\n",
      "7         idade    int64}\n"
     ]
    }
   ],
   "source": [
    "modelo = TreinamentoModelo().treinamento_modelo()"
   ]
  },
  {
   "cell_type": "markdown",
   "metadata": {},
   "source": [
    "$$ $$\n",
    "# Inferência (submissão do teste)\n",
    "$$ $$"
   ]
  },
  {
   "cell_type": "code",
   "execution_count": 13,
   "metadata": {},
   "outputs": [
    {
     "name": "stdout",
     "output_type": "stream",
     "text": [
      "Carregando o modelo \n",
      "\n",
      "\n",
      "Carregando dados \n",
      "\n",
      "\n",
      "Retorno teste (X e y) \n",
      "\n",
      "Dimensão X: (231, 8) \n",
      "Dimensão y: (231, 1) \n",
      "\n",
      "Pré-processamento \n",
      "\n",
      "\n",
      "Preenchimento dos missings das numéricas \n",
      "\n",
      "Normalização dos dados (mínimo e máximo) \n",
      "\n",
      "Predição \n",
      "\n",
      "\n",
      "Salvando arquivos \n",
      "\n",
      "\n"
     ]
    }
   ],
   "source": [
    "inferencia = InferenciaModelo()\n",
    "y_pred = inferencia.predicao()"
   ]
  },
  {
   "cell_type": "code",
   "execution_count": 14,
   "metadata": {},
   "outputs": [
    {
     "data": {
      "text/html": [
       "<div>\n",
       "<style scoped>\n",
       "    .dataframe tbody tr th:only-of-type {\n",
       "        vertical-align: middle;\n",
       "    }\n",
       "\n",
       "    .dataframe tbody tr th {\n",
       "        vertical-align: top;\n",
       "    }\n",
       "\n",
       "    .dataframe thead th {\n",
       "        text-align: right;\n",
       "    }\n",
       "</style>\n",
       "<table border=\"1\" class=\"dataframe\">\n",
       "  <thead>\n",
       "    <tr style=\"text-align: right;\">\n",
       "      <th></th>\n",
       "      <th>0</th>\n",
       "    </tr>\n",
       "  </thead>\n",
       "  <tbody>\n",
       "    <tr>\n",
       "      <th>0</th>\n",
       "      <td>0</td>\n",
       "    </tr>\n",
       "    <tr>\n",
       "      <th>1</th>\n",
       "      <td>0</td>\n",
       "    </tr>\n",
       "    <tr>\n",
       "      <th>2</th>\n",
       "      <td>0</td>\n",
       "    </tr>\n",
       "    <tr>\n",
       "      <th>3</th>\n",
       "      <td>0</td>\n",
       "    </tr>\n",
       "    <tr>\n",
       "      <th>4</th>\n",
       "      <td>1</td>\n",
       "    </tr>\n",
       "    <tr>\n",
       "      <th>...</th>\n",
       "      <td>...</td>\n",
       "    </tr>\n",
       "    <tr>\n",
       "      <th>226</th>\n",
       "      <td>0</td>\n",
       "    </tr>\n",
       "    <tr>\n",
       "      <th>227</th>\n",
       "      <td>0</td>\n",
       "    </tr>\n",
       "    <tr>\n",
       "      <th>228</th>\n",
       "      <td>0</td>\n",
       "    </tr>\n",
       "    <tr>\n",
       "      <th>229</th>\n",
       "      <td>0</td>\n",
       "    </tr>\n",
       "    <tr>\n",
       "      <th>230</th>\n",
       "      <td>0</td>\n",
       "    </tr>\n",
       "  </tbody>\n",
       "</table>\n",
       "<p>231 rows × 1 columns</p>\n",
       "</div>"
      ],
      "text/plain": [
       "     0\n",
       "0    0\n",
       "1    0\n",
       "2    0\n",
       "3    0\n",
       "4    1\n",
       "..  ..\n",
       "226  0\n",
       "227  0\n",
       "228  0\n",
       "229  0\n",
       "230  0\n",
       "\n",
       "[231 rows x 1 columns]"
      ]
     },
     "execution_count": 14,
     "metadata": {},
     "output_type": "execute_result"
    }
   ],
   "source": [
    "inferencia.predito"
   ]
  },
  {
   "cell_type": "code",
   "execution_count": 15,
   "metadata": {},
   "outputs": [
    {
     "data": {
      "text/plain": [
       "{'model_obj': RandomForestClassifier(),\n",
       " 'preprocess': <preprocessamento.Preprocessamento at 0x7f8b3615bad0>,\n",
       " 'colunas':         colunas    tipos\n",
       " 0    num_gravid    int64\n",
       " 1       glicose    int64\n",
       " 2       pressao    int64\n",
       " 3  espes_tricep    int64\n",
       " 4      insulina    int64\n",
       " 5           imc  float64\n",
       " 6     hist_diab  float64\n",
       " 7         idade    int64}"
      ]
     },
     "execution_count": 15,
     "metadata": {},
     "output_type": "execute_result"
    }
   ],
   "source": [
    "inferencia.modelo"
   ]
  },
  {
   "cell_type": "code",
   "execution_count": 16,
   "metadata": {},
   "outputs": [
    {
     "data": {
      "text/html": [
       "<div>\n",
       "<style scoped>\n",
       "    .dataframe tbody tr th:only-of-type {\n",
       "        vertical-align: middle;\n",
       "    }\n",
       "\n",
       "    .dataframe tbody tr th {\n",
       "        vertical-align: top;\n",
       "    }\n",
       "\n",
       "    .dataframe thead th {\n",
       "        text-align: right;\n",
       "    }\n",
       "</style>\n",
       "<table border=\"1\" class=\"dataframe\">\n",
       "  <thead>\n",
       "    <tr style=\"text-align: right;\">\n",
       "      <th></th>\n",
       "      <th>0</th>\n",
       "    </tr>\n",
       "  </thead>\n",
       "  <tbody>\n",
       "    <tr>\n",
       "      <th>0</th>\n",
       "      <td>0</td>\n",
       "    </tr>\n",
       "    <tr>\n",
       "      <th>1</th>\n",
       "      <td>0</td>\n",
       "    </tr>\n",
       "    <tr>\n",
       "      <th>2</th>\n",
       "      <td>0</td>\n",
       "    </tr>\n",
       "    <tr>\n",
       "      <th>3</th>\n",
       "      <td>0</td>\n",
       "    </tr>\n",
       "    <tr>\n",
       "      <th>4</th>\n",
       "      <td>1</td>\n",
       "    </tr>\n",
       "  </tbody>\n",
       "</table>\n",
       "</div>"
      ],
      "text/plain": [
       "   0\n",
       "0  0\n",
       "1  0\n",
       "2  0\n",
       "3  0\n",
       "4  1"
      ]
     },
     "execution_count": 16,
     "metadata": {},
     "output_type": "execute_result"
    }
   ],
   "source": [
    "y_pred.head()"
   ]
  },
  {
   "cell_type": "code",
   "execution_count": 17,
   "metadata": {},
   "outputs": [
    {
     "data": {
      "text/html": [
       "<div>\n",
       "<style scoped>\n",
       "    .dataframe tbody tr th:only-of-type {\n",
       "        vertical-align: middle;\n",
       "    }\n",
       "\n",
       "    .dataframe tbody tr th {\n",
       "        vertical-align: top;\n",
       "    }\n",
       "\n",
       "    .dataframe thead th {\n",
       "        text-align: right;\n",
       "    }\n",
       "</style>\n",
       "<table border=\"1\" class=\"dataframe\">\n",
       "  <thead>\n",
       "    <tr style=\"text-align: right;\">\n",
       "      <th></th>\n",
       "      <th>num_gravid</th>\n",
       "      <th>glicose</th>\n",
       "      <th>pressao</th>\n",
       "      <th>espes_tricep</th>\n",
       "      <th>insulina</th>\n",
       "      <th>imc</th>\n",
       "      <th>hist_diab</th>\n",
       "      <th>idade</th>\n",
       "    </tr>\n",
       "  </thead>\n",
       "  <tbody>\n",
       "    <tr>\n",
       "      <th>668</th>\n",
       "      <td>0.352941</td>\n",
       "      <td>0.492462</td>\n",
       "      <td>0.475410</td>\n",
       "      <td>0.523810</td>\n",
       "      <td>0.224586</td>\n",
       "      <td>0.506706</td>\n",
       "      <td>0.150299</td>\n",
       "      <td>0.366667</td>\n",
       "    </tr>\n",
       "    <tr>\n",
       "      <th>324</th>\n",
       "      <td>0.117647</td>\n",
       "      <td>0.562814</td>\n",
       "      <td>0.614754</td>\n",
       "      <td>0.507937</td>\n",
       "      <td>0.000000</td>\n",
       "      <td>0.532042</td>\n",
       "      <td>0.029889</td>\n",
       "      <td>0.000000</td>\n",
       "    </tr>\n",
       "    <tr>\n",
       "      <th>624</th>\n",
       "      <td>0.117647</td>\n",
       "      <td>0.542714</td>\n",
       "      <td>0.524590</td>\n",
       "      <td>0.000000</td>\n",
       "      <td>0.000000</td>\n",
       "      <td>0.459016</td>\n",
       "      <td>0.034159</td>\n",
       "      <td>0.000000</td>\n",
       "    </tr>\n",
       "    <tr>\n",
       "      <th>690</th>\n",
       "      <td>0.470588</td>\n",
       "      <td>0.537688</td>\n",
       "      <td>0.655738</td>\n",
       "      <td>0.000000</td>\n",
       "      <td>0.000000</td>\n",
       "      <td>0.366617</td>\n",
       "      <td>0.332195</td>\n",
       "      <td>0.216667</td>\n",
       "    </tr>\n",
       "    <tr>\n",
       "      <th>473</th>\n",
       "      <td>0.411765</td>\n",
       "      <td>0.683417</td>\n",
       "      <td>0.737705</td>\n",
       "      <td>0.000000</td>\n",
       "      <td>0.000000</td>\n",
       "      <td>0.445604</td>\n",
       "      <td>0.056362</td>\n",
       "      <td>0.483333</td>\n",
       "    </tr>\n",
       "  </tbody>\n",
       "</table>\n",
       "</div>"
      ],
      "text/plain": [
       "     num_gravid   glicose   pressao  espes_tricep  insulina       imc  \\\n",
       "668    0.352941  0.492462  0.475410      0.523810  0.224586  0.506706   \n",
       "324    0.117647  0.562814  0.614754      0.507937  0.000000  0.532042   \n",
       "624    0.117647  0.542714  0.524590      0.000000  0.000000  0.459016   \n",
       "690    0.470588  0.537688  0.655738      0.000000  0.000000  0.366617   \n",
       "473    0.411765  0.683417  0.737705      0.000000  0.000000  0.445604   \n",
       "\n",
       "     hist_diab     idade  \n",
       "668   0.150299  0.366667  \n",
       "324   0.029889  0.000000  \n",
       "624   0.034159  0.000000  \n",
       "690   0.332195  0.216667  \n",
       "473   0.056362  0.483333  "
      ]
     },
     "execution_count": 17,
     "metadata": {},
     "output_type": "execute_result"
    }
   ],
   "source": [
    "inferencia.dados_prever.head()"
   ]
  }
 ],
 "metadata": {
  "kernelspec": {
   "display_name": "Python 3",
   "language": "python",
   "name": "python3"
  },
  "language_info": {
   "codemirror_mode": {
    "name": "ipython",
    "version": 3
   },
   "file_extension": ".py",
   "mimetype": "text/x-python",
   "name": "python",
   "nbconvert_exporter": "python",
   "pygments_lexer": "ipython3",
   "version": "3.7.9"
  }
 },
 "nbformat": 4,
 "nbformat_minor": 4
}
